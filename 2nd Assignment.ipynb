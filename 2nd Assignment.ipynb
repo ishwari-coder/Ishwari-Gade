{
 "cells": [
  {
   "cell_type": "markdown",
   "id": "31235d81-72d2-43b5-a28a-33c2ccd6064f",
   "metadata": {},
   "source": [
    "## Problem 1: Write a program that will give you in hand monthly salary after deducattion on CTC-HRA(10%),DA(5%),PF(3%)and taxes deductio as bellow:\n",
    "salary (lakhs):Tax(%)\n",
    "*below 5:0%\n",
    "*5-10:10%\n",
    "*10-20:20%\n",
    "*aboove 20 :30%"
   ]
  },
  {
   "cell_type": "code",
   "execution_count": 15,
   "id": "4a3c2327-c487-4ccb-ac12-9c885851968b",
   "metadata": {},
   "outputs": [
    {
     "name": "stdin",
     "output_type": "stream",
     "text": [
      "enter salary in lakhs 20000\n"
     ]
    },
    {
     "name": "stdout",
     "output_type": "stream",
     "text": [
      "Monthly Salary:Rs. -3320.0\n"
     ]
    }
   ],
   "source": [
    "CTC=float(input('enter salary in lakhs'))\n",
    "HRA=CTC*0.1\n",
    "DA=CTC*0.05\n",
    "PF=CTC*0.03\n",
    "taxable_income=CTC=HRA-DA-PF\n",
    "if CTC < 5 :\n",
    "    tax_per = 0\n",
    "elif 5 <= CTC <= 10:\n",
    "    tax_per = 10\n",
    "elif 10 <= CTC <= 20:\n",
    "    tax_per = 20\n",
    "else:\n",
    "    tax_per = 30\n",
    "tax_deduct = taxable_income*(tax_per/100)\n",
    "monthly_sal = CTC-HRA-DA-PF-tax_deduct\n",
    "print(\"Monthly Salary:Rs.\",monthly_sal)"
   ]
  },
  {
   "cell_type": "markdown",
   "id": "f5b1d81d-7e78-40da-92c1-44c2feacdffc",
   "metadata": {},
   "source": [
    "## Problem 2: Write a program the that take a user input of three angles and will find out whether it can form a triangle or not."
   ]
  },
  {
   "cell_type": "code",
   "execution_count": null,
   "id": "e9062c22-354c-4b04-ba1e-b139ec274d79",
   "metadata": {},
   "outputs": [],
   "source": [
    "s1 = int (input(\"enter the triangle side-1:\"))\n",
    "s2 = int (input(\"enter the triangle side-2:\"))\n",
    "s3 = int (input(\"enter the triangle side-3:\"))\n",
    "sum = s1+s2+s3\n",
    "if(sum==180):\n",
    "   print (\"triangle valid..\")\n",
    "else:\n",
    "    (\"triangle not valid..\")"
   ]
  },
  {
   "cell_type": "markdown",
   "id": "842d589e-5f94-45be-9342-30cf8867a817",
   "metadata": {},
   "source": [
    "## Problem 3:Write a program that will take user input of cost price and selling price and determines whether its a loss or a profit"
   ]
  },
  {
   "cell_type": "code",
   "execution_count": 16,
   "id": "197889b0-a36c-4bd1-aa8a-4a14893389d1",
   "metadata": {},
   "outputs": [
    {
     "name": "stdin",
     "output_type": "stream",
     "text": [
      "Enter the cost price. 2000\n",
      "Enter the selling price. 3000\n"
     ]
    },
    {
     "name": "stdout",
     "output_type": "stream",
     "text": [
      "Profit\n"
     ]
    }
   ],
   "source": [
    "cp=float(input(\"Enter the cost price.\"))\n",
    "sp=float(input(\"Enter the selling price.\"))\n",
    "profit = sp-cp\n",
    "if profit>0:\n",
    "    print(\"Profit\")\n",
    "elif profit<0:\n",
    "    print(\"loss\")\n",
    "else:\n",
    "    print(\"no profit and loss\")"
   ]
  },
  {
   "cell_type": "markdown",
   "id": "aa0a360b-171f-4208-a5b5-b26796fc2adf",
   "metadata": {},
   "source": [
    "## Problem 4:write a menu-driven program-\n",
    "1.cm to fit \n",
    "2. km to miles\n",
    "3.USD to INR \n",
    "4.exit"
   ]
  },
  {
   "cell_type": "code",
   "execution_count": 5,
   "id": "d15f98ce-a036-45e4-99e4-c868f588dcd1",
   "metadata": {},
   "outputs": [
    {
     "name": "stdin",
     "output_type": "stream",
     "text": [
      "\n",
      "select one option \n",
      "1. cms to fit \n",
      "2. km to miles\n",
      "3. USD to INR\n",
      "4. Exit \n",
      " 2\n",
      "enter your km value 10\n"
     ]
    },
    {
     "name": "stdout",
     "output_type": "stream",
     "text": [
      "miles value is  6.2\n"
     ]
    }
   ],
   "source": [
    "menu = input (\"\"\"\n",
    "select one option \n",
    "1. cms to fit \n",
    "2. km to miles\n",
    "3. USD to INR\n",
    "4. Exit \n",
    "\"\"\")\n",
    "if menu ==\"1\":\n",
    "     cm = float (input (\"enter your cm value \"))\n",
    "     print (\"ft value is \",0.03280*cm)\n",
    "elif menu ==\"2\":\n",
    "    km = eval (input (\"enter your km value\"))\n",
    "    print (\"miles value is \",0.62*km)\n",
    "elif menu == \"3\":\n",
    "    USD = eval (input (\"enter your USD value\"))\n",
    "    print(\"INR value is \",83.35*USD)\n",
    "else:\n",
    "           print (\"Exit\")"
   ]
  },
  {
   "cell_type": "markdown",
   "id": "2a1970be-00f7-4a3c-97da-95fdabc411f2",
   "metadata": {},
   "source": [
    "## Problem5. Exercise 12: Display fibonacci series up to 10 terms.\n"
   ]
  },
  {
   "cell_type": "code",
   "execution_count": 3,
   "id": "ed2cfdfb-06cf-43df-8cf2-212b91f302f5",
   "metadata": {},
   "outputs": [
    {
     "name": "stdin",
     "output_type": "stream",
     "text": [
      "enter any number 7\n"
     ]
    },
    {
     "name": "stdout",
     "output_type": "stream",
     "text": [
      "0 1 1 2 3 5 8 "
     ]
    }
   ],
   "source": [
    "num = int(input(\"enter any number\"))\n",
    "n1=0\n",
    "n2=1\n",
    "sum =0\n",
    "if num<=0:\n",
    "    print('please enter number greater than 0')\n",
    "else:\n",
    "    for i in range(0,num):\n",
    "        print (sum,end=\" \")\n",
    "        n1 = n2\n",
    "        n2 = sum \n",
    "        sum = n1 + n2\n",
    "sum = n2+n1"
   ]
  },
  {
   "cell_type": "markdown",
   "id": "68aeaed9-01fe-4d61-bd5d-4d7a327c6142",
   "metadata": {},
   "source": [
    "## Problem 6. Find the factorial of a given number.\n",
    "write a program to use loop to find the factorial of a given number.\n",
    "the factorial (symbol:!) means to multiply all whole numbers from the chosen number down to 1.\n",
    "for example : calculate the factorial of 5"
   ]
  },
  {
   "cell_type": "code",
   "execution_count": 2,
   "id": "f8cae811-a5ae-47b6-ae94-44239f4bed8f",
   "metadata": {},
   "outputs": [
    {
     "name": "stdin",
     "output_type": "stream",
     "text": [
      "Enter a number: 5\n"
     ]
    },
    {
     "name": "stdout",
     "output_type": "stream",
     "text": [
      "The factorial of  5 is 120\n"
     ]
    }
   ],
   "source": [
    "num =int(input(\"Enter a number:\"))\n",
    "fact = 1\n",
    "a=1\n",
    "while a <=num :\n",
    "    fact=fact*a\n",
    "    a=a+1\n",
    "print(\"The factorial of \",num ,\"is\",fact)"
   ]
  },
  {
   "cell_type": "markdown",
   "id": "7fa96196-91d7-4106-a609-2b5103b347f4",
   "metadata": {},
   "source": [
    "## Problem 7. Reverse a given integer number.\n",
    "Input :76542\n",
    "Output :24567"
   ]
  },
  {
   "cell_type": "code",
   "execution_count": null,
   "id": "15af5835-2c8a-44a5-88a2-28b2c1fd8f92",
   "metadata": {},
   "outputs": [],
   "source": [
    "i=int(input(\"enter number\"))\n",
    "rev=0\n",
    "while (i>0):\n",
    "    rev=(rev*10)+i%10\n",
    "    i=i//10\n",
    "print(\"Reverse number=\",rev)"
   ]
  },
  {
   "cell_type": "markdown",
   "id": "84fca821-3902-4800-a47f-68f179bd589f",
   "metadata": {},
   "source": [
    "## Problem 8. Take a user input as inter N. Find out the sum from 1 to N.if any numberr if divisible by 5,that skip that number.and if the sum is greater than 300,dont need to calculate the sum further more. print the final result.and dont use for loop to solve this problem\n",
    "\n",
    "    \n",
    "Example 1:\n",
    "Input:\n",
    "30"
   ]
  },
  {
   "cell_type": "code",
   "execution_count": null,
   "id": "148c0b9e-6d0c-4f66-a40c-5ed812433180",
   "metadata": {},
   "outputs": [],
   "source": [
    "N=int(input(\"enter an integer num: \"))\n",
    "sum =0\n",
    "i=1\n",
    "while i < N:\n",
    "    if i % 5 == 0:\n",
    "        i+= 1\n",
    "        continue\n",
    "        \n",
    "    if sum+i > 300:\n",
    "         break\n",
    "    sum += i\n",
    "     i += 1\n",
    "print(\"final result:\",sum)"
   ]
  },
  {
   "cell_type": "markdown",
   "id": "9a0c277f-c5d1-4003-a454-6a3f00abbccd",
   "metadata": {},
   "source": [
    "## Problem 9: write a program which will find all such numbers which will are divisible by 7 but are not a multiple of 5,between 2000 and 3200(both included).the numbers obatined be printed in a comma-seperated seqence on a asingle line."
   ]
  },
  {
   "cell_type": "code",
   "execution_count": 22,
   "id": "1a64310a-7672-43c0-8bd6-b0ed7b6b921a",
   "metadata": {},
   "outputs": [
    {
     "name": "stdout",
     "output_type": "stream",
     "text": [
      "[2002, 2009, 2016, 2023, 2037, 2044, 2051, 2058, 2072, 2079, 2086, 2093, 2107, 2114, 2121, 2128, 2142, 2149, 2156, 2163, 2177, 2184, 2191, 2198, 2212, 2219, 2226, 2233, 2247, 2254, 2261, 2268, 2282, 2289, 2296, 2303, 2317, 2324, 2331, 2338, 2352, 2359, 2366, 2373, 2387, 2394, 2401, 2408, 2422, 2429, 2436, 2443, 2457, 2464, 2471, 2478, 2492, 2499, 2506, 2513, 2527, 2534, 2541, 2548, 2562, 2569, 2576, 2583, 2597, 2604, 2611, 2618, 2632, 2639, 2646, 2653, 2667, 2674, 2681, 2688, 2702, 2709, 2716, 2723, 2737, 2744, 2751, 2758, 2772, 2779, 2786, 2793, 2807, 2814, 2821, 2828, 2842, 2849, 2856, 2863, 2877, 2884, 2891, 2898, 2912, 2919, 2926, 2933, 2947, 2954, 2961, 2968, 2982, 2989, 2996, 3003, 3017, 3024, 3031, 3038, 3052, 3059, 3066, 3073, 3087, 3094, 3101, 3108, 3122, 3129, 3136, 3143, 3157, 3164, 3171, 3178, 3192, 3199]\n"
     ]
    }
   ],
   "source": [
    "result = []\n",
    "for num in range (2000,3200):\n",
    "    if num % 7 == 0 and num % 5 !=0:\n",
    "        result.append(num)\n",
    "print(result)"
   ]
  },
  {
   "cell_type": "markdown",
   "id": "2a88a4ba-8542-436e-958c-93d5fa98e7f7",
   "metadata": {},
   "source": [
    "## Problem 10: Write a program which will find all such numberse between 1000 and 3000 (both included) such that each digit of the  number is an even number. the numbers obatined should be printed in a space -sperated seqence on a single line"
   ]
  },
  {
   "cell_type": "code",
   "execution_count": 1,
   "id": "f40658cd-b943-4eca-830e-4fad6baf1cb3",
   "metadata": {},
   "outputs": [
    {
     "name": "stdout",
     "output_type": "stream",
     "text": [
      "2000 2001 2002 2003 2004 2005 2006 2007 2008 2009 2020 2021 2022 2023 2024 2025 2026 2027 2028 2029 2040 2041 2042 2043 2044 2045 2046 2047 2048 2049 2060 2061 2062 2063 2064 2065 2066 2067 2068 2069 2080 2081 2082 2083 2084 2085 2086 2087 2088 2089 2200 2201 2202 2203 2204 2205 2206 2207 2208 2209 2220 2221 2222 2223 2224 2225 2226 2227 2228 2229 2240 2241 2242 2243 2244 2245 2246 2247 2248 2249 2260 2261 2262 2263 2264 2265 2266 2267 2268 2269 2280 2281 2282 2283 2284 2285 2286 2287 2288 2289 2400 2401 2402 2403 2404 2405 2406 2407 2408 2409 2420 2421 2422 2423 2424 2425 2426 2427 2428 2429 2440 2441 2442 2443 2444 2445 2446 2447 2448 2449 2460 2461 2462 2463 2464 2465 2466 2467 2468 2469 2480 2481 2482 2483 2484 2485 2486 2487 2488 2489 2600 2601 2602 2603 2604 2605 2606 2607 2608 2609 2620 2621 2622 2623 2624 2625 2626 2627 2628 2629 2640 2641 2642 2643 2644 2645 2646 2647 2648 2649 2660 2661 2662 2663 2664 2665 2666 2667 2668 2669 2680 2681 2682 2683 2684 2685 2686 2687 2688 2689 2800 2801 2802 2803 2804 2805 2806 2807 2808 2809 2820 2821 2822 2823 2824 2825 2826 2827 2828 2829 2840 2841 2842 2843 2844 2845 2846 2847 2848 2849 2860 2861 2862 2863 2864 2865 2866 2867 2868 2869 2880 2881 2882 2883 2884 2885 2886 2887 2888 2889\n"
     ]
    }
   ],
   "source": [
    "result = [ ]\n",
    "for i in range(1000,3000):\n",
    "    s = str(i)\n",
    "    if (int(s[0]) % 2 == 0) and (int(s[1]) %2 ==0) and (int(s[2]) % 2 == 0):\n",
    "        result.append(s)\n",
    "print(\" \".join(result))"
   ]
  },
  {
   "cell_type": "markdown",
   "id": "8f83134c-4413-4b73-9c04-dffd62d09056",
   "metadata": {},
   "source": [
    "## Problem 11: a robot moves in a plan starting the original point (0,0). the robot can move toward UP,DOWN,LEFT and RIGHT with a given steps. \n",
    "The trace of robot movement is shown as the following:\n",
    "UP 5\n",
    "DOWN 3\n",
    "LEFT 3\n",
    "RIGHT 2\n",
    "!"
   ]
  },
  {
   "cell_type": "code",
   "execution_count": null,
   "id": "e5e12694-4302-4bed-9469-c50f7cf817ab",
   "metadata": {},
   "outputs": [],
   "source": [
    "x=0\n",
    "y=0\n",
    "while True :\n",
    "    movement = input(\"Enter movementb(Type ! to stop):\")\n",
    "    if movement=='!':\n",
    "        break\n",
    "        direction,steps=movement.split()\n",
    "        steps=int(steps)\n",
    "if direction == 'UP' :\n",
    "    y+=steps\n",
    "elif direction == 'DOWN':\n",
    "    y-=steps\n",
    "elif direction == 'LEFT':\n",
    "    x-=steps\n",
    "elif direction =='RIGHT':\n",
    "    x+=steps\n",
    "distance=round((x**2+y**2)**0.5)\n",
    "print(\"Distance from the origanal point:\",distance)"
   ]
  },
  {
   "cell_type": "markdown",
   "id": "9ae295d5-cbfa-411f-a7cd-b9c1457b5882",
   "metadata": {},
   "source": [
    "## problem 12: Write a program to print whether a given number is a prime number or not"
   ]
  },
  {
   "cell_type": "code",
   "execution_count": 17,
   "id": "477bbee5-e46c-4ea4-9e5e-379e8b53949a",
   "metadata": {},
   "outputs": [
    {
     "name": "stdin",
     "output_type": "stream",
     "text": [
      "enter an integer num: 7\n"
     ]
    },
    {
     "name": "stdout",
     "output_type": "stream",
     "text": [
      "7 is a prime number\n"
     ]
    }
   ],
   "source": [
    "num = int(input(\"enter an integer num:\"))\n",
    "if num > 1:\n",
    "    for i in range(2,(num//2)+1):\n",
    "        if (num % i) == 0:\n",
    "            print(num,\"is not a primenumber\")\n",
    "            break\n",
    "    else:\n",
    "            print(num,\"is a prime number\")\n",
    "else:\n",
    "         print(num,\"is not a prime number\")  "
   ]
  },
  {
   "cell_type": "markdown",
   "id": "7ec2a39c-153e-462e-9612-7ceec21061d5",
   "metadata": {},
   "source": [
    "## Problem 13: Print all the Armstrong numbers in a given range \n",
    "range will be provided by the user\n",
    "\n",
    "armstrong number is a number that is equal to the sum of cubes of its digit.\n",
    "\n",
    "for example 0,1,153,370,371 and 407 are the armstrong numberse"
   ]
  },
  {
   "cell_type": "code",
   "execution_count": 9,
   "id": "853cd518-0b10-44c9-b4a5-2f584f934f09",
   "metadata": {},
   "outputs": [
    {
     "name": "stdin",
     "output_type": "stream",
     "text": [
      "enter a number: 153\n"
     ]
    },
    {
     "name": "stdout",
     "output_type": "stream",
     "text": [
      "153 is an Armstrong number\n"
     ]
    }
   ],
   "source": [
    "num = int(input(\"enter a number:\"))\n",
    "sum = 0\n",
    "temp = num\n",
    "while temp > 0:\n",
    "    digit = temp % 10\n",
    "    sum += digit ** 3\n",
    "    temp//=10\n",
    "    if num == sum:\n",
    "        print(num,\"is an Armstrong number\")\n",
    "        "
   ]
  },
  {
   "cell_type": "markdown",
   "id": "5ce1f6d8-f98a-4b9d-af11-b4659671bede",
   "metadata": {},
   "source": [
    "## Problem 14: calculate the angle between the hour and and minute hand .\n",
    "note:there can be two angles hands;we need to print a minimum of two.also,we need to print the floor of the final result angle for example,if the final angle is 10.\n",
    "Input:\n",
    "H=9,M=0"
   ]
  },
  {
   "cell_type": "code",
   "execution_count": 8,
   "id": "e5a19cfd-7396-4bf5-bd9d-8323b85e6b61",
   "metadata": {},
   "outputs": [
    {
     "name": "stdout",
     "output_type": "stream",
     "text": [
      "90\n"
     ]
    }
   ],
   "source": [
    "H = 9\n",
    "M = 0\n",
    "hour_angle = (H % 12) * 30 + (M * 0.5)\n",
    "minute_angle = M * 6\n",
    "angle_difference = abs(hour_angle-minute_angle)\n",
    "smaller_angle = min(angle_difference,360 - angle_difference)\n",
    "result = int(smaller_angle)\n",
    "print(result)"
   ]
  },
  {
   "cell_type": "markdown",
   "id": "43f06969-d081-40df-8672-e27f13755ea2",
   "metadata": {},
   "source": [
    "## Problem 15: Given two rectangles overlap or not.a rectangle is denoted by providing the x and y coordinates of two points:the left top corner and the right cottom corner and the right bottom corner of the rectangle .two rectangle sharing a side are considered overlaping (L1  and R1 are the extreme points of the first rectangle and L2 and R2 are the extreme points of the second rectangle).\n",
    "Note:it may be assumed that the rectangle  are parallel  to the coordinate axis"
   ]
  },
  {
   "cell_type": "code",
   "execution_count": 4,
   "id": "bd5624c0-6881-4098-b3c6-91424f560191",
   "metadata": {},
   "outputs": [
    {
     "name": "stdout",
     "output_type": "stream",
     "text": [
      "True\n"
     ]
    }
   ],
   "source": [
    "x1,y1 = 0, 10\n",
    "x2,y2 = 10,0\n",
    "\n",
    "x3,y3 = 5,5\n",
    "x4,y4 = 15,-5\n",
    "\n",
    "if (x2 < x3 or x4 < x1 or y2 > y3 or y4 >y1):\n",
    "    overlap = false\n",
    "else:\n",
    "    overlap = True\n",
    "\n",
    "print(overlap)"
   ]
  },
  {
   "cell_type": "code",
   "execution_count": null,
   "id": "40fab110-ac7a-4a59-9dfc-8fb7e1304d2d",
   "metadata": {},
   "outputs": [],
   "source": []
  }
 ],
 "metadata": {
  "kernelspec": {
   "display_name": "Python 3 (ipykernel)",
   "language": "python",
   "name": "python3"
  },
  "language_info": {
   "codemirror_mode": {
    "name": "ipython",
    "version": 3
   },
   "file_extension": ".py",
   "mimetype": "text/x-python",
   "name": "python",
   "nbconvert_exporter": "python",
   "pygments_lexer": "ipython3",
   "version": "3.11.7"
  }
 },
 "nbformat": 4,
 "nbformat_minor": 5
}
