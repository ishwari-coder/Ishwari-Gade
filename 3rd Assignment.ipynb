{
 "cells": [
  {
   "cell_type": "markdown",
   "id": "908d0022-b802-4ea1-a2f6-d565cc563d77",
   "metadata": {},
   "source": [
    "## Problem 1:Print the following pattern.write a program to use for loop to print the following reverse numberse pattern\n",
    "5 4 3 2 1\n",
    "\n",
    "4 3 2 1\n",
    "\n",
    "3 2 1\n",
    "\n",
    "2 1\n",
    "\n",
    "1"
   ]
  },
  {
   "cell_type": "code",
   "execution_count": 15,
   "id": "572d4853-379c-4fcb-90ca-fbb3f3929e7f",
   "metadata": {},
   "outputs": [
    {
     "name": "stdout",
     "output_type": "stream",
     "text": [
      "5 4 3 2 1 \n",
      "4 3 2 1 \n",
      "3 2 1 \n",
      "2 1 \n",
      "1 \n",
      "\n"
     ]
    }
   ],
   "source": [
    "rows = 5\n",
    "for i in range(0,rows+1):\n",
    "    for j in range(rows-i,0,-1):\n",
    "       print(j,end=' ')\n",
    "    print()"
   ]
  },
  {
   "cell_type": "markdown",
   "id": "cdf41a77-1517-45c7-b00b-fa3e02c91f97",
   "metadata": {},
   "source": [
    "## Problem 2:Print the following pattern\n"
   ]
  },
  {
   "cell_type": "markdown",
   "id": "b180abbd-e5ad-4a39-921f-b86b66e3e58a",
   "metadata": {},
   "source": [
    "*\n",
    "* *\n",
    "* * * \n",
    "* * * *\n",
    "* * * * *\n",
    "* * * *\n",
    "* * *\n",
    "* *\n",
    "*"
   ]
  },
  {
   "cell_type": "code",
   "execution_count": 19,
   "id": "1ac82530-1af3-4d86-9456-215808d227fb",
   "metadata": {},
   "outputs": [
    {
     "name": "stdout",
     "output_type": "stream",
     "text": [
      " *  \n",
      " *   *  \n",
      " *   *   *  \n",
      " *   *   *   *  \n",
      " *   *   *   *   *  \n",
      " *   *   *   *  \n",
      " *   *   *  \n",
      " *   *  \n",
      " *  \n",
      "\n"
     ]
    }
   ],
   "source": [
    "rows = 5\n",
    "for i in range(0,rows):\n",
    "    for j in  range(0,i+1):\n",
    "        print(\" * \",end=' ')\n",
    "    print()\n",
    "\n",
    "for i in range(rows,0,-1):\n",
    "    for j in range(0,i-1):\n",
    "        print(\" * \",end=' ')\n",
    "    print( )"
   ]
  },
  {
   "cell_type": "markdown",
   "id": "e89384ff-2e03-430b-8b41-460ff0031683",
   "metadata": {},
   "source": [
    "## Problem 3: Write a program to print the pattern"
   ]
  },
  {
   "cell_type": "code",
   "execution_count": null,
   "id": "4f19629e-c7aa-4242-8611-08ab457d75d8",
   "metadata": {},
   "outputs": [],
   "source": [
    "        *\n",
    "      * * *\n",
    "    * * * * * "
   ]
  },
  {
   "cell_type": "code",
   "execution_count": 4,
   "id": "bb11a7ad-82bb-4a1a-b455-5f84a89f8add",
   "metadata": {},
   "outputs": [
    {
     "name": "stdout",
     "output_type": "stream",
     "text": [
      "         *  \n",
      "     *   *   *  \n",
      " *   *   *   *   *  \n"
     ]
    }
   ],
   "source": [
    "n = 3 \n",
    "for i in range(n):\n",
    "\n",
    "    for j in range(n - i - 1):\n",
    "        print(\"  \" , end =\"  \")\n",
    "\n",
    "    for k in range(2 * i  + 1):\n",
    "        print(\" * \",end=\" \")\n",
    "        \n",
    "    print( )"
   ]
  },
  {
   "cell_type": "markdown",
   "id": "88e496ab-9bc4-4a1c-8646-04e817093eeb",
   "metadata": {},
   "source": [
    "## Problem 4 : Write a program to print the following pattern"
   ]
  },
  {
   "cell_type": "code",
   "execution_count": null,
   "id": "54c1a100-e02b-4292-a5b2-447280db7984",
   "metadata": {},
   "outputs": [],
   "source": [
    "1\n",
    "2 1\n",
    "3 2 1\n",
    "4 3 2 1\n",
    "5 4 3 2 1"
   ]
  },
  {
   "cell_type": "code",
   "execution_count": 28,
   "id": "34a44d0b-3bdd-4dcb-99b4-d1878ca8953f",
   "metadata": {},
   "outputs": [
    {
     "name": "stdout",
     "output_type": "stream",
     "text": [
      "1 \n",
      "2 1 \n",
      "3 2 1 \n",
      "4 3 2 1 \n",
      "5 4 3 2 1 \n"
     ]
    }
   ],
   "source": [
    "rows = 6\n",
    "for i in range(1,rows):\n",
    "    for j in range(i,0,-1):\n",
    "        print(j,end=' ')\n",
    "    print( )"
   ]
  },
  {
   "cell_type": "markdown",
   "id": "3d458fd6-9bc1-45b4-8b64-c82ca0b7326f",
   "metadata": {},
   "source": [
    "## problem 5: Write a python program to find the sum of the series till the nth term:1 + x^2/2 + x^3/3+....x^n/n n will be provided by the user"
   ]
  },
  {
   "cell_type": "code",
   "execution_count": 13,
   "id": "576f893d-46da-4805-826c-91e645794c3f",
   "metadata": {},
   "outputs": [
    {
     "name": "stdin",
     "output_type": "stream",
     "text": [
      "Enter the valueof x: 2\n",
      "Enter the number of terms: 4\n"
     ]
    },
    {
     "name": "stdout",
     "output_type": "stream",
     "text": [
      "The sum of the series up to the (n)th term is: (total:2f)\n"
     ]
    }
   ],
   "source": [
    "x= float(input(\"Enter the valueof x:\"))\n",
    "y=int(input(\"Enter the number of terms:\"))\n",
    "\n",
    "total = 1\n",
    "for i in range (2, n+1):\n",
    "    term = (x ** i) / i\n",
    "    total += term\n",
    "\n",
    "print(\"The sum of the series up to the (n)th term is: (total:2f)\")"
   ]
  },
  {
   "cell_type": "markdown",
   "id": "8c11f38a-b157-4d6f-b75c-ecd5c1e7318c",
   "metadata": {},
   "source": [
    "## Problem 6: The natural logarithm can be approximated by the following series.\n",
    "If x is input through the keyboard, write a program to calculate the sum of the first seven terms of this series.\r\n",
    "\r\n"
   ]
  },
  {
   "cell_type": "code",
   "execution_count": 2,
   "id": "58200f0c-196c-47fc-94e0-50e79d7ab102",
   "metadata": {},
   "outputs": [
    {
     "name": "stdin",
     "output_type": "stream",
     "text": [
      "Enter the value of x:  8\n"
     ]
    },
    {
     "name": "stdout",
     "output_type": "stream",
     "text": [
      "The approximation of ln(1 + 8.0) using the series is: 261578.74285714285\n",
      "The exact value of ln(1 + 8.0) is: 2.1972245773362196\n"
     ]
    }
   ],
   "source": [
    "import math\n",
    "\n",
    "def ln_approximation(x):\n",
    "    approximation = x\n",
    "    sign = -1\n",
    "    for i in range(2, 8):\n",
    "        term = (x ** i) / i\n",
    "        approximation += sign * term\n",
    "        sign *= -1\n",
    "    return approximation\n",
    "x = float(input(\"Enter the value of x: \"))\n",
    "approx_ln = ln_approximation(x)\n",
    "print(f\"The approximation of ln(1 + {x}) using the series is: {approx_ln}\")\n",
    "exact_ln = math.log(1 + x)\n",
    "print(f\"The exact value of ln(1 + {x}) is: {exact_ln}\")"
   ]
  },
  {
   "cell_type": "code",
   "execution_count": null,
   "id": "93e83f4f-145a-4ce2-afd5-bbb6679e70d6",
   "metadata": {},
   "outputs": [],
   "source": []
  }
 ],
 "metadata": {
  "kernelspec": {
   "display_name": "Python 3 (ipykernel)",
   "language": "python",
   "name": "python3"
  },
  "language_info": {
   "codemirror_mode": {
    "name": "ipython",
    "version": 3
   },
   "file_extension": ".py",
   "mimetype": "text/x-python",
   "name": "python",
   "nbconvert_exporter": "python",
   "pygments_lexer": "ipython3",
   "version": "3.11.7"
  }
 },
 "nbformat": 4,
 "nbformat_minor": 5
}
