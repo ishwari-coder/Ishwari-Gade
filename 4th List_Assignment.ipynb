{
 "cells": [
  {
   "cell_type": "markdown",
   "id": "30446df2-e778-4846-8065-4e77ff195056",
   "metadata": {},
   "source": [
    "# Q.1:Creat 2 lists from given list where 1sr will contain all the odd number from orignal list and 2nd one will contain all the even numbers\n",
    "L=[1,2,3,4,5,6]"
   ]
  },
  {
   "cell_type": "code",
   "execution_count": 9,
   "id": "4f44ab5b-0152-4f95-8dec-6c4775de0fca",
   "metadata": {},
   "outputs": [
    {
     "name": "stdout",
     "output_type": "stream",
     "text": [
      "Odd numbers: [1, 3, 5]\n",
      "Even numbers: [2, 4, 6]\n"
     ]
    }
   ],
   "source": [
    "L = [1,2,3,4,5,6]\n",
    "Odd_numbers = [x for x in L if x % 2 != 0]\n",
    "\n",
    "Even_numbers = [x for x in L if x % 2 == 0]\n",
    "\n",
    "print(\"Odd numbers:\",Odd_numbers)\n",
    "print(\"Even numbers:\",Even_numbers)\n"
   ]
  },
  {
   "cell_type": "markdown",
   "id": "28f5dcf2-cb41-4daa-af01-3383a192e052",
   "metadata": {},
   "source": [
    "## Q.2:How to take list as input from user"
   ]
  },
  {
   "cell_type": "code",
   "execution_count": 8,
   "id": "456d6146-22bf-4f3d-93cb-8c166cd41e27",
   "metadata": {},
   "outputs": [
    {
     "ename": "IndentationError",
     "evalue": "expected an indented block after 'for' statement on line 5 (941404586.py, line 7)",
     "output_type": "error",
     "traceback": [
      "\u001b[1;36m  Cell \u001b[1;32mIn[8], line 7\u001b[1;36m\u001b[0m\n\u001b[1;33m    ele = int('input()')\u001b[0m\n\u001b[1;37m    ^\u001b[0m\n\u001b[1;31mIndentationError\u001b[0m\u001b[1;31m:\u001b[0m expected an indented block after 'for' statement on line 5\n"
     ]
    }
   ],
   "source": [
    "list = [ ]\n",
    "\n",
    "n = int(input(\"enter number of elements :\"))\n",
    "\n",
    "for i in range (0, n):\n",
    "    \n",
    "ele = int('input()')\n",
    "\n",
    "   List.append(else)\n",
    "print(list)"
   ]
  },
  {
   "cell_type": "markdown",
   "id": "ba036e24-5eec-487d-9eb6-50d60e6742cc",
   "metadata": {},
   "source": [
    "## Q.3: Write a program to merege 2 list without using the + Operator\n",
    "L1=[1,2,3,4]\n",
    "\n",
    "L2=[5,6,7,8]"
   ]
  },
  {
   "cell_type": "code",
   "execution_count": 7,
   "id": "0564621b-58ff-4c6d-9269-30ef058f51a5",
   "metadata": {},
   "outputs": [
    {
     "name": "stdout",
     "output_type": "stream",
     "text": [
      "Councatinated list using list comprehension:[1, 2, 3, 4, 5, 6, 7, 8]\n"
     ]
    }
   ],
   "source": [
    "L1 = [1,2,3,4]\n",
    "L2 = [5,6,7,8]\n",
    "res_list = [y for x in [L1,L2] for y in x]\n",
    "print (\"Councatinated list using list comprehension:\" +str(res_list))"
   ]
  },
  {
   "cell_type": "markdown",
   "id": "31ec5d7b-6bb5-4579-b7f7-98a8eab6d88c",
   "metadata": {},
   "source": [
    "## Q.4:Write a prgram to replace an item with a different item if found in the list\n",
    "L=[1,2,3,4,5,3]\n",
    "\n",
    "replace 3 with 300"
   ]
  },
  {
   "cell_type": "code",
   "execution_count": 4,
   "id": "ba5f185f-c983-48ae-9bcf-2d7d246ca2ae",
   "metadata": {},
   "outputs": [
    {
     "name": "stdout",
     "output_type": "stream",
     "text": [
      "Update list: [1, 2, 300, 4, 5, 300]\n"
     ]
    }
   ],
   "source": [
    "L = [1,2,3,4,5,3]\n",
    "item_to_replace = 3\n",
    "new_item =300 \n",
    "\n",
    "\n",
    "for i in range(len(L)):\n",
    "    if L[i] == item_to_replace:\n",
    "        L[i]=new_item\n",
    "print(\"Update list:\",L)"
   ]
  },
  {
   "cell_type": "markdown",
   "id": "3dd914db-ae18-451b-b7c3-fdd52a32adb5",
   "metadata": {},
   "source": [
    "## Q.5:write a prgram that can convert a 2D list to 1D list"
   ]
  },
  {
   "cell_type": "code",
   "execution_count": 10,
   "id": "3a4c2229-bf55-4d12-981a-bc54876b3d65",
   "metadata": {},
   "outputs": [
    {
     "name": "stdout",
     "output_type": "stream",
     "text": [
      "1D List: [1, 2, 3, 4, 5, 6, 7, 8, 9]\n"
     ]
    }
   ],
   "source": [
    "L_2D = [\n",
    "    [1,2,3],\n",
    "    [4,5,6],\n",
    "    [7,8,9]\n",
    "]\n",
    "\n",
    "L_1D = [item for sublist in L_2D for item in sublist]\n",
    "\n",
    "print(\"1D List:\",L_1D )"
   ]
  },
  {
   "cell_type": "markdown",
   "id": "98f8f4d5-7ee9-4cdf-bb77-9b9915d0d863",
   "metadata": {},
   "source": [
    "## Q.6: Write a program to remove duplicates items from a list\n",
    "L = [1,2,1,2,3,4,5,3,4]"
   ]
  },
  {
   "cell_type": "code",
   "execution_count": 6,
   "id": "aa2448e5-42a8-4057-a0a1-c6045e17176b",
   "metadata": {},
   "outputs": [
    {
     "name": "stdout",
     "output_type": "stream",
     "text": [
      "List with duplicates removed: [1, 2, 3, 4, 5]\n"
     ]
    }
   ],
   "source": [
    "L = [1,2,1,2,3,4,5,3,4]\n",
    "L_unique  = [ ]\n",
    "for item in L:\n",
    "    if item not in L_unique:\n",
    "        L_unique.append(item)\n",
    "print(\"List with duplicates removed:\",L_unique)"
   ]
  },
  {
   "cell_type": "markdown",
   "id": "407cf29d-e670-47ac-a99b-a10a20c70a05",
   "metadata": {},
   "source": [
    "## Q.7:Write a program to check if a list is in ascending order or not "
   ]
  },
  {
   "cell_type": "code",
   "execution_count": 7,
   "id": "fb1746d0-6f04-4e23-90c3-b6a141a34cbc",
   "metadata": {},
   "outputs": [
    {
     "name": "stdout",
     "output_type": "stream",
     "text": [
      "The list is in ascending order.\n"
     ]
    }
   ],
   "source": [
    "L = [1,2,3,4,5,6]\n",
    "\n",
    "is_ascending = all(L[i] <=L[i+1] for i in range(len(L)-1))\n",
    "if is_ascending:\n",
    "    print(\"The list is in ascending order.\")\n",
    "else:\n",
    "    print(\"The list is not in ascending order.\")"
   ]
  }
 ],
 "metadata": {
  "kernelspec": {
   "display_name": "Python 3 (ipykernel)",
   "language": "python",
   "name": "python3"
  },
  "language_info": {
   "codemirror_mode": {
    "name": "ipython",
    "version": 3
   },
   "file_extension": ".py",
   "mimetype": "text/x-python",
   "name": "python",
   "nbconvert_exporter": "python",
   "pygments_lexer": "ipython3",
   "version": "3.11.7"
  }
 },
 "nbformat": 4,
 "nbformat_minor": 5
}
