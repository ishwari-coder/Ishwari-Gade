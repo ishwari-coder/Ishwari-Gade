{
 "cells": [
  {
   "cell_type": "markdown",
   "id": "0d60fea5-4465-4ba6-aae8-e489760611ad",
   "metadata": {},
   "source": [
    "## Tuples"
   ]
  },
  {
   "cell_type": "markdown",
   "id": "7893d68f-c4bd-49aa-bae0-8ed2f70fdabb",
   "metadata": {},
   "source": [
    "## Q1. Join Tuples if similar initial elements\n",
    "While working with python tuples, we can have a problem in which we need to perform concatenation of records from the similarilty of initial elements. THis problem can have applications in data domains such as Data Science"
   ]
  },
  {
   "cell_type": "code",
   "execution_count": 4,
   "id": "cb8a75d9-5760-475b-a400-20b107918285",
   "metadata": {},
   "outputs": [
    {
     "name": "stdout",
     "output_type": "stream",
     "text": [
      "Initially the list is : [(5, 6), (5, 7), (5, 8), (6, 10), (7, 13)]\n",
      "Joined list : [(5, 6, 7, 8), (6, 10), (7, 13)]\n"
     ]
    }
   ],
   "source": [
    "myList = [(5, 6), (5, 7), (5, 8), (6, 10), (7, 13)]\n",
    "print(\"Initially the list is : \" + str(myList))\n",
    "joinList = []\n",
    "for val in myList:\t\t\t\t\t\t\t\t\t\t\n",
    "\tif joinList and joinList[-1][0] == val[0]:\t\t\t\n",
    "\t\tjoinList[-1].extend(val[1:])\t\t\t\t\t\t\n",
    "\telse:\n",
    "\t\tjoinList.append([ele for ele in val])\t\n",
    "joinList = list(map(tuple, joinList))\n",
    "print(\"Joined list : \"+ str(joinList) )"
   ]
  },
  {
   "cell_type": "markdown",
   "id": "f14ae1d9-239a-4fd7-9b76-8f4115ff9caa",
   "metadata": {},
   "source": [
    "## Q2. Multiply Adjacent elements (both side)and taken sum of right and lest side multiplication result."
   ]
  },
  {
   "cell_type": "code",
   "execution_count": 17,
   "id": "94f7332a-ba1d-4ad5-be21-efe38a24205e",
   "metadata": {},
   "outputs": [
    {
     "name": "stdout",
     "output_type": "stream",
     "text": [
      "The Original tuple:(1, 5, 7, 8, 10)\n",
      "Resultant tuple after multiplicatio:(5, 35, 56, 80)\n"
     ]
    }
   ],
   "source": [
    "test_tup=(1,5,7,8,10)\n",
    "\n",
    "print (\"The Original tuple:\"+str(test_tup))\n",
    "\n",
    "res= tuple (i*j for i, j in zip(test_tup, test_tup[1:]))\n",
    "\n",
    "print (\"Resultant tuple after multiplicatio:\"+str(res))"
   ]
  },
  {
   "cell_type": "markdown",
   "id": "7d33f98d-61f8-4658-a40d-f9d1b9e3e969",
   "metadata": {},
   "source": [
    "## Q3. Check is tuple are same or not?\n",
    "Two tuples would be same if both tuples have same elements at same index"
   ]
  },
  {
   "cell_type": "code",
   "execution_count": 5,
   "id": "2343f1ea-f68b-4fb8-bd03-78d3ed2f2d20",
   "metadata": {},
   "outputs": [
    {
     "ename": "IndentationError",
     "evalue": "unexpected indent (3785430825.py, line 3)",
     "output_type": "error",
     "traceback": [
      "\u001b[1;36m  Cell \u001b[1;32mIn[5], line 3\u001b[1;36m\u001b[0m\n\u001b[1;33m    print(\"The original list 1 : \" + str(t1))\u001b[0m\n\u001b[1;37m    ^\u001b[0m\n\u001b[1;31mIndentationError\u001b[0m\u001b[1;31m:\u001b[0m unexpected indent\n"
     ]
    }
   ],
   "source": [
    "t1 = (1,2,3,4,5)\n",
    "t2 = (1,2,3,4,5)  \n",
    " print(\"The original list 1 : \" + str(t1)) \n",
    "print(\"The original list 2 : \" + str(t2)) \n",
    " res = t1 == t2 \n",
    "print(\"Is tuples are same or not ? : \" + str(res))"
   ]
  },
  {
   "cell_type": "markdown",
   "id": "5844617c-7271-4cfd-9946-a1fbf043fa38",
   "metadata": {},
   "source": [
    "## Q4. Count no. of tuples, list and set from list.\n"
   ]
  },
  {
   "cell_type": "code",
   "execution_count": 6,
   "id": "850972d9-5ead-4d05-9e31-1fdc2d34c724",
   "metadata": {},
   "outputs": [
    {
     "name": "stdout",
     "output_type": "stream",
     "text": [
      "List-2\n",
      "Set-2\n",
      "Tuples-1\n"
     ]
    }
   ],
   "source": [
    "list1=[{'hi','bye'},{'How are you', 'good'},('Arun', 'karan'),[1,2,3],[4,5,6]]\n",
    "list1 = [{'hi','bye'},{'How are you', 'good'},('Arun', 'karan'),[1,2,3],[4,5,6]]\n",
    "tuple_count = 0\n",
    "list_count = 0\n",
    "set_count = 0\n",
    "\n",
    "for item in list1:\n",
    "    if isinstance(item, tuple):\n",
    "        tuple_count += 1\n",
    "    elif isinstance(item, list):\n",
    "        list_count += 1\n",
    "    elif isinstance(item, set):\n",
    "        set_count += 1\n",
    "        \n",
    "print(f\"List-{list_count}\")\n",
    "print(f\"Set-{set_count}\")\n",
    "print(f\"Tuples-{tuple_count}\")"
   ]
  },
  {
   "cell_type": "markdown",
   "id": "f0f283bd-495f-4554-b8a9-fca62ceb9d67",
   "metadata": {},
   "source": [
    "## Q5. Shortlist Students for a job role.\n",
    "Ask user to input students record and store in tuples for each record. Then Ask user to input three things he wants in the candidate- Primary Skill, Higher Education, Year of Graduation.Show every students record in form of tuples if matches all required criteria. It is assumed that there will be only one primry skill.If no such candidate found, print No such candidate.\n",
    "\n",
    "Input : Enter No of records- 2 Enter Details of student-1 Enter Student name- Manohar Enter Higher Education- B.Tech Enter Primary Skill- Python Enter Year of Graduation- 2022 Enter Details of student-2 Enter Student name- Ponian Enter Higher Education- B.Sc. Enter Primary Skill- C++ Enter Year of Graduation- 2020\n",
    "\n",
    "Enter Job Role Requirement Enter Skill- Python Enter Higher Education- B.Tech Enter Year of Graduation- 2"
   ]
  },
  {
   "cell_type": "markdown",
   "id": "7c8794cb-606e-4b5c-9875-5eb8a16b1a19",
   "metadata": {},
   "source": [
    "## Sets"
   ]
  },
  {
   "cell_type": "markdown",
   "id": "d9263499-bb25-43ad-9875-25b96d844dd4",
   "metadata": {},
   "source": [
    "## Q1. Write a program to find a set of common elements in three lists using sets.\n",
    "Input: ar1=[1,5,10,20,40,80] ar2=[6,7,20,80,100] ar3=[3,4,15,20,30,70,80,120]"
   ]
  },
  {
   "cell_type": "code",
   "execution_count": 1,
   "id": "489494d6-3165-4352-8c81-4185e7580845",
   "metadata": {},
   "outputs": [
    {
     "name": "stdout",
     "output_type": "stream",
     "text": [
      "Common elements: [80, 20]\n"
     ]
    }
   ],
   "source": [
    "def find_common_elements(ar1, ar2, ar3):\n",
    "    \n",
    "    set1 = set(ar1)\n",
    "    set2 = set(ar2)\n",
    "    set3 = set(ar3)\n",
    "    \n",
    "    common_elements = set1.intersection(set2, set3)\n",
    "    \n",
    "    result = list(common_elements)\n",
    "    \n",
    "    return result\n",
    "ar1 = [1, 5, 10, 20, 40, 80]\n",
    "ar2 = [6, 7, 20, 80, 100]\n",
    "ar3 = [3, 4, 15, 20, 30, 70, 80, 120]\n",
    "\n",
    "common_elements = find_common_elements(ar1, ar2, ar3)\n",
    "print(\"Common elements:\", common_elements)"
   ]
  },
  {
   "cell_type": "markdown",
   "id": "6ec1804b-a7e9-4610-b57f-747377fb6470",
   "metadata": {},
   "source": [
    "## Q2. Write a program to count unique number of vowels using sets in a given string. Lowercase and upercase vowels will be taken as different.\n",
    "Input: Str1 = \"hands-on data science mentorship pro"
   ]
  },
  {
   "cell_type": "code",
   "execution_count": 2,
   "id": "89ef9796-0296-4d1b-a476-aa7b988e53e0",
   "metadata": {},
   "outputs": [
    {
     "name": "stdout",
     "output_type": "stream",
     "text": [
      "Number of unique vowels: 4\n"
     ]
    }
   ],
   "source": [
    "def count_unique_vowels(input_str):\n",
    "    vowels = {'a', 'e', 'i', 'o', 'u', 'A', 'E', 'I', 'O', 'U'}  # Set of vowels including both cases\n",
    "    \n",
    "    unique_vowels = set()\n",
    "    \n",
    "    for char in input_str:\n",
    "        if char in vowels:\n",
    "            unique_vowels.add(char)\n",
    "    \n",
    "    return len(unique_vowels)\n",
    "\n",
    "Str1 = \"hands-on data science mentorship pro\"\n",
    "unique_vowels_count = count_unique_vowels(Str1)\n",
    "print(\"Number of unique vowels:\", unique_vowels_count)"
   ]
  },
  {
   "cell_type": "markdown",
   "id": "4939eab2-e2ef-4ec8-bdcb-89fb5f93a8f9",
   "metadata": {},
   "source": [
    "## Q3.Write a program to Check if a given string is binary string of or not.\n",
    "A string is said to be binary if it's consists of only two unique characters. Take string input from user. Input: str = \"01010101010\""
   ]
  },
  {
   "cell_type": "code",
   "execution_count": 3,
   "id": "dd539936-a8ab-4bdb-bc07-c97d721501ea",
   "metadata": {},
   "outputs": [
    {
     "name": "stdin",
     "output_type": "stream",
     "text": [
      "Enter a string to check if it's a binary string:  hallo good morning\n"
     ]
    },
    {
     "name": "stdout",
     "output_type": "stream",
     "text": [
      "No, the string is not a binary string.\n"
     ]
    }
   ],
   "source": [
    "def is_binary_string(input_str):\n",
    "    \n",
    "    unique_chars = set(input_str)\n",
    "    \n",
    "    if len(unique_chars) == 2:\n",
    "        return True\n",
    "    else:\n",
    "        return False\n",
    "\n",
    "input_str = input(\"Enter a string to check if it's a binary string: \")\n",
    "\n",
    "if is_binary_string(input_str):\n",
    "    print(\"Yes, the string is a binary string.\")\n",
    "else:\n",
    "    print(\"No, the string is not a binary string.\")"
   ]
  },
  {
   "cell_type": "markdown",
   "id": "75385058-8a68-4db0-8d88-a1393ebcd216",
   "metadata": {},
   "source": [
    "## Q4. Find Union of n Arrays.\n",
    "Input: [[1,2,2,4,3,6], [5,1,3,4], [9,5,7,1], [2,1,4,3]]"
   ]
  },
  {
   "cell_type": "code",
   "execution_count": 9,
   "id": "ad1801b5-4fe0-43f3-ac7e-96ee13078074",
   "metadata": {},
   "outputs": [
    {
     "ename": "SyntaxError",
     "evalue": "invalid non-printable character U+00A0 (3798008655.py, line 14)",
     "output_type": "error",
     "traceback": [
      "\u001b[1;36m  Cell \u001b[1;32mIn[9], line 14\u001b[1;36m\u001b[0m\n\u001b[1;33m    print(\"Union of arrays:\", union_result)\u001b[0m\n\u001b[1;37m                             ^\u001b[0m\n\u001b[1;31mSyntaxError\u001b[0m\u001b[1;31m:\u001b[0m invalid non-printable character U+00A0\n"
     ]
    }
   ],
   "source": [
    "def find_union(arrays):\n",
    "    union_set = set()\n",
    "    for array in arrays:\n",
    "        union_set.update(array)\n",
    "    union_list = sorted(list(union_set))\n",
    "    return union_list\n",
    "arrays = [\n",
    "    [1, 2, 2, 4, 3, 6],\n",
    "    [5, 1, 3, 4],\n",
    "    [9, 5, 7, 1],\n",
    "    [2, 4, 1, 3]\n",
    "]\n",
    "union_result = find_union(arrays)\n",
    "print(\"Union of arrays:\", union_result)"
   ]
  },
  {
   "cell_type": "markdown",
   "id": "4bb034ec-3d90-4d6a-a11d-df911f9c9a89",
   "metadata": {},
   "source": [
    "## Q5. Intersection of two lists. Intersection of two list means we need to take all those elements which are common to both of the initial lists and store them into another list. Only use using list-comprehension.\n",
    "Input: lst1 = {15, 9, 10, 56, 23, 78, 5, 4, 9} lst2 = {9, 4, 5, 36, 47, 26, 10, 45, 87}"
   ]
  },
  {
   "cell_type": "code",
   "execution_count": 5,
   "id": "a57dbaa6-0f0d-4982-9308-a85856a760c3",
   "metadata": {},
   "outputs": [
    {
     "name": "stdout",
     "output_type": "stream",
     "text": [
      "[9, 10, 5, 4, 9]\n"
     ]
    }
   ],
   "source": [
    "lst1 = [15, 9, 10, 56, 23, 78, 5, 4, 9]\n",
    "lst2 = [9, 4, 5, 36, 47, 26, 10, 45, 87]\n",
    "\n",
    "intersection = [item for item in lst1 if item in lst2]\n",
    "\n",
    "print(intersection)"
   ]
  },
  {
   "cell_type": "markdown",
   "id": "b5c7b617-4376-42e7-8b2d-76489ae66cc8",
   "metadata": {},
   "source": [
    "## DICTIONARY"
   ]
  },
  {
   "cell_type": "markdown",
   "id": "5c7cc646-a859-45a0-92bf-9263cedc8492",
   "metadata": {},
   "source": [
    "## Q1. Key with maximum unique values\n",
    "Given a dictionary with values list, extract key whose value has most unique values. Input : test_ dict= {\"CampusX\": [5,7,9,4,0], \"is\": [6,7,4,3,3],\" Best\": [9,9,6,5,5]}\n"
   ]
  },
  {
   "cell_type": "code",
   "execution_count": 10,
   "id": "91d713db-fd52-49f6-92c1-54d9737fe53d",
   "metadata": {},
   "outputs": [
    {
     "name": "stdout",
     "output_type": "stream",
     "text": [
      "CampusX\n",
      "Best\n"
     ]
    }
   ],
   "source": [
    "test_dict = {\"CampusX\": [5, 7, 9, 4, 0], \"is\": [6, 7, 4, 3, 3], \"Best\": [9, 9, 6, 5, 5]}\n",
    "\n",
    "max_unique_key = max(test_dict, key=lambda k: len(set(test_dict[k])))\n",
    "\n",
    "print(max_unique_key)\n",
    "test_dict = {\"CampusX\": [5, 7, 7,7, 7], \"is\": [6, 7, 7, 7], \"Best\": [9, 9, 6, 5, 5]}\n",
    "\n",
    "max_unique_key = max(test_dict, key=lambda k: len(set(test_dict[k])))\n",
    "\n",
    "print(max_unique_key)"
   ]
  },
  {
   "cell_type": "markdown",
   "id": "ed1daa16-0d47-4e93-a6f5-85d071c81790",
   "metadata": {},
   "source": [
    "## Q2. Replace words from Dictionary. Given String, replace it’s words from lookup dictionary.\n",
    "Input:\n",
    "\n",
    "test_str = 'CampusX best for DS students.' repl_dict = {\"best\" : \"is the best channel\", \"DS\" : \"Data-Science\"}"
   ]
  },
  {
   "cell_type": "code",
   "execution_count": 11,
   "id": "2e501c91-ab35-4547-96f6-d9a0c0edfc57",
   "metadata": {},
   "outputs": [
    {
     "name": "stdout",
     "output_type": "stream",
     "text": [
      "CampusX is the best channel for Data-Science students.\n",
      "CampusX good for Data-Science students.\n"
     ]
    }
   ],
   "source": [
    "test_str = 'CampusX best for DS students.'\n",
    "repl_dict = {\"best\": \"is the best channel\", \"DS\": \"Data-Science\"}\n",
    "\n",
    "words = test_str.split()\n",
    "\n",
    "replaced_words = [repl_dict.get(word, word) for word in words]\n",
    "\n",
    "result_str = ' '.join(replaced_words)\n",
    "\n",
    "print(result_str)\n",
    "test_str = 'CampusX good for DS students.'\n",
    "repl_dict = {\"Good\": \"is the best channel\", \"DS\": \"Data-Science\"}\n",
    "\n",
    "words = test_str.split()\n",
    "\n",
    "replaced_words = [repl_dict.get(word, word) for word in words]\n",
    "\n",
    "result_str = ' '.join(replaced_words)\n",
    "\n",
    "print(result_str)"
   ]
  },
  {
   "cell_type": "markdown",
   "id": "c955071a-670c-4deb-97f9-847775692e12",
   "metadata": {},
   "source": [
    "## Q3. Convert List to List of dictionaries. Given list values and keys list, convert these values to key value pairs in form of list of dictionaries.\n",
    "Input: test_list = [\"DataScience\", 3, \"is\", 8] key_list = [\"name\", \"id\"]"
   ]
  },
  {
   "cell_type": "code",
   "execution_count": 12,
   "id": "6619ed6b-d964-4b71-84c1-d05ac2bb212c",
   "metadata": {},
   "outputs": [
    {
     "name": "stdout",
     "output_type": "stream",
     "text": [
      "[{'name': 'DataScience', 'id': 3}, {'name': 'is', 'id': 8}]\n"
     ]
    }
   ],
   "source": [
    "test_list = [\"DataScience\", 3, \"is\", 8]\n",
    "key_list = [\"name\", \"id\"]\n",
    "\n",
    "result = [{key_list[0]: test_list[i], key_list[1]: test_list[i + 1]} for i in range(0, len(test_list), 2)]\n",
    "\n",
    "print(result)"
   ]
  },
  {
   "cell_type": "markdown",
   "id": "f828ae0d-6381-4c9c-8c85-62ecf5b72a09",
   "metadata": {},
   "source": [
    "## Q4. Convert a list of Tuples into Dictionary.\n",
    "Input: [(\"akash\", 10), (\"gaurav\", 12), (\"anand\", 14), (\"suraj\", 20), (\"akhil\", 25), (\"ashish\", 30)]"
   ]
  },
  {
   "cell_type": "code",
   "execution_count": 13,
   "id": "22204ede-0553-4dff-b6ed-3507942b5419",
   "metadata": {},
   "outputs": [
    {
     "name": "stdout",
     "output_type": "stream",
     "text": [
      "{'akash': [10], 'gaurav': [12], 'anand': [14], 'suraj': [20], 'akhil': [25], 'ashish': [30]}\n"
     ]
    }
   ],
   "source": [
    "input_list = [(\"akash\", 10), (\"gaurav\", 12), (\"anand\", 14), (\"suraj\", 20), (\"akhil\", 25), (\"ashish\", 30)]\n",
    "\n",
    "output_dict = {key: [value] for key, value in input_list}\n",
    "\n",
    "print(output_dict)"
   ]
  },
  {
   "cell_type": "markdown",
   "id": "1deb3235-4864-4c06-8b64-2b7e2fa80ebd",
   "metadata": {},
   "source": [
    "## Q5. Sort Dictionary key and values List.\n",
    "Input: {'c': [3], 'b': [12, 10], 'a': [19, 4]}"
   ]
  },
  {
   "cell_type": "code",
   "execution_count": 14,
   "id": "72b0f4fe-9462-4384-846f-c3cc501fa237",
   "metadata": {},
   "outputs": [
    {
     "name": "stdout",
     "output_type": "stream",
     "text": [
      "{'a': [4, 19], 'b': [10, 12], 'c': [3]}\n"
     ]
    },
    {
     "data": {
      "text/plain": [
       "197857.14286057148"
      ]
     },
     "execution_count": 14,
     "metadata": {},
     "output_type": "execute_result"
    }
   ],
   "source": [
    "input_dict = {'c': [3], 'b': [12, 10], 'a': [19, 4]}\n",
    "              \n",
    "sorted_dict = {key: sorted(values) for key, values in sorted(input_dict.items())}\n",
    "\n",
    "print(sorted_dict)\n",
    "66428.57142857148+(164.28571429*800)"
   ]
  }
 ],
 "metadata": {
  "kernelspec": {
   "display_name": "Python 3 (ipykernel)",
   "language": "python",
   "name": "python3"
  },
  "language_info": {
   "codemirror_mode": {
    "name": "ipython",
    "version": 3
   },
   "file_extension": ".py",
   "mimetype": "text/x-python",
   "name": "python",
   "nbconvert_exporter": "python",
   "pygments_lexer": "ipython3",
   "version": "3.11.7"
  }
 },
 "nbformat": 4,
 "nbformat_minor": 5
}
