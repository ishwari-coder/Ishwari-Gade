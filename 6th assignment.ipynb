{
 "cells": [
  {
   "cell_type": "markdown",
   "id": "e2744cee-a985-4d73-927b-b2674accbbb4",
   "metadata": {},
   "source": [
    "## Q1. Write a Python function that takes a list and returns a new list with unique elements of the first list."
   ]
  },
  {
   "cell_type": "code",
   "execution_count": 1,
   "id": "bfe42c17-bf83-49ea-b6b3-c89fbd7cda37",
   "metadata": {},
   "outputs": [
    {
     "name": "stdout",
     "output_type": "stream",
     "text": [
      "[1, 2, 3, 4, 5]\n"
     ]
    }
   ],
   "source": [
    "def unique_elements(input_list):\n",
    "    return list(set(input_list))\n",
    "    \n",
    "input_list = [1, 2, 3, 3, 3, 3, 4, 5]\n",
    "unique_list = unique_elements(input_list)\n",
    "print(unique_list)"
   ]
  },
  {
   "cell_type": "markdown",
   "id": "a7669e20-32d4-4b38-8edb-4fb65082044a",
   "metadata": {},
   "source": [
    "## Q2. Write a Python function that accepts a hyphen-separated sequence of words as parameter and returns the words in a hyphen-separated sequence after sorting them alphabetically."
   ]
  },
  {
   "cell_type": "code",
   "execution_count": 2,
   "id": "c9def1b5-6a17-4857-a615-5c8c2a2b7314",
   "metadata": {},
   "outputs": [
    {
     "name": "stdout",
     "output_type": "stream",
     "text": [
      "apple-banana-grape-orange\n"
     ]
    }
   ],
   "source": [
    "def sort_hyphenated_sequence(sequence):\n",
    "    words = sequence.split('-')\n",
    "    words.sort()\n",
    "    return '-'.join(words)\n",
    "\n",
    "input_sequence = \"apple-orange-banana-grape\"\n",
    "sorted_sequence = sort_hyphenated_sequence(input_sequence)\n",
    "print(sorted_sequence)"
   ]
  },
  {
   "cell_type": "markdown",
   "id": "30625150-bc79-4f8f-a584-1521bcae713a",
   "metadata": {},
   "source": [
    "## Q3. Write a Python function that accepts a string and calculate the number of upper case letters and lower case letters."
   ]
  },
  {
   "cell_type": "code",
   "execution_count": 3,
   "id": "033bdd41-17a0-42ab-bac5-d35a220d25b9",
   "metadata": {},
   "outputs": [
    {
     "name": "stdout",
     "output_type": "stream",
     "text": [
      "Uppercase letters: 2\n",
      "Lowercase letters: 13\n"
     ]
    }
   ],
   "source": [
    "def count_case_letters(input_string):\n",
    "    upper_count = 0\n",
    "    lower_count = 0\n",
    "\n",
    "    for char in input_string:\n",
    "        if char.isupper():\n",
    "            upper_count += 1\n",
    "        elif char.islower():\n",
    "            lower_count += 1\n",
    "\n",
    "    return upper_count, lower_count\n",
    "\n",
    "input_string = \"Sharing is Caring\"\n",
    "upper_count, lower_count = count_case_letters(input_string)\n",
    "print(f\"Uppercase letters: {upper_count}\")\n",
    "print(f\"Lowercase letters: {lower_count}\")"
   ]
  },
  {
   "cell_type": "markdown",
   "id": "63227606-cd76-4e57-a30a-9210053c036a",
   "metadata": {},
   "source": [
    "## Q4. Write a Python program to print the even numbers from a given list.\n",
    "Sample List : [1, 2, 3, 4, 5, 6, 7, 8, 9] Expected Result : [2, 4, 6, 8]"
   ]
  },
  {
   "cell_type": "code",
   "execution_count": 4,
   "id": "ec3b4a42-9656-4263-a8c6-e6633f99111f",
   "metadata": {},
   "outputs": [
    {
     "name": "stdout",
     "output_type": "stream",
     "text": [
      "Even numbers: [2, 4, 6, 8]\n"
     ]
    }
   ],
   "source": [
    "def print_even_numbers(input_list):\n",
    "    even_numbers = [num for num in input_list if num % 2 == 0]\n",
    "    print(\"Even numbers:\", even_numbers)\n",
    "\n",
    "# Example usage\n",
    "input_list = [1, 2, 3, 4, 5, 6, 7, 8, 9]\n",
    "print_even_numbers(input_list)"
   ]
  },
  {
   "cell_type": "markdown",
   "id": "2951b034-78fa-4ee3-8423-65d70d4fb3e6",
   "metadata": {},
   "source": [
    "## Q5. Write a Python function to check whether a number is perfect or not.\n",
    "A Perfect number is a number that is half the sum of all of its positive divisors (including itself)."
   ]
  },
  {
   "cell_type": "code",
   "execution_count": 5,
   "id": "60d946ec-5a3f-494e-a8d2-490c9baf79ac",
   "metadata": {},
   "outputs": [
    {
     "name": "stdout",
     "output_type": "stream",
     "text": [
      "23 is not a perfect number\n"
     ]
    }
   ],
   "source": [
    "def is_perfect_number(n):\n",
    "    if n <= 0:\n",
    "        return False\n",
    "    \n",
    "    divisors_sum = sum([i for i in range(1, n) if n % i == 0])\n",
    "    \n",
    "    return divisors_sum == n\n",
    "\n",
    "number = 23\n",
    "if is_perfect_number(number):\n",
    "    print(f\"{number} is a perfect number\")\n",
    "else:\n",
    "    print(f\"{number} is not a perfect number\")"
   ]
  },
  {
   "cell_type": "markdown",
   "id": "0364548f-6073-43a4-930f-cf8f40ce5012",
   "metadata": {},
   "source": [
    "## Q6. Write a Python function to concatenate any no of dictionaries to create a new one.\n",
    "Sample Dictionary : dic1={1:10, 2:20} dic2={3:30, 4:40} dic3={5:50,6:60} Expected Result : {1: 10, 2: 20, 3: 30, 4: 40, 5: 50, 6: 60}"
   ]
  },
  {
   "cell_type": "code",
   "execution_count": 6,
   "id": "2d3f991b-0b79-4602-ac99-89de0fc143c7",
   "metadata": {},
   "outputs": [
    {
     "name": "stdout",
     "output_type": "stream",
     "text": [
      "{1: 10, 2: 20, 3: 30, 4: 40, 5: 50, 6: 60}\n"
     ]
    }
   ],
   "source": [
    "def concatenate_dictionaries(*dicts):\n",
    "    result = {}\n",
    "    for dictionary in dicts:\n",
    "        result.update(dictionary)\n",
    "    return result\n",
    "\n",
    "# Example usage\n",
    "dic1 = {1: 10, 2: 20}\n",
    "dic2 = {3: 30, 4: 40}\n",
    "dic3 = {5: 50, 6: 60}\n",
    "\n",
    "result = concatenate_dictionaries(dic1, dic2, dic3)\n",
    "print(result)"
   ]
  },
  {
   "cell_type": "markdown",
   "id": "dfca435a-f8fa-4bc7-b3b1-107030701489",
   "metadata": {},
   "source": [
    "## Q7. Write a python function that accepts a string as input and returns the word with most occurence."
   ]
  },
  {
   "cell_type": "code",
   "execution_count": 7,
   "id": "0dbfa31a-e8bc-4938-abe7-ad3ac5ca42c5",
   "metadata": {},
   "outputs": [
    {
     "name": "stdout",
     "output_type": "stream",
     "text": [
      "The most frequent word is: I\n"
     ]
    }
   ],
   "source": [
    "from collections import Counter\n",
    "\n",
    "def most_frequent_word(input_string):\n",
    "    words = input_string.split()\n",
    "    word_counts = Counter(words)\n",
    "    most_common_word, most_common_count = word_counts.most_common(1)[0]\n",
    "    return most_common_word\n",
    "\n",
    "\n",
    "input_string = \"I felt happy because I saw the others were happy and because I knew I should feel happy, but wasn't I really happy.\"\n",
    "result = most_frequent_word(input_string)\n",
    "print(f\"The most frequent word is: {result}\")"
   ]
  },
  {
   "cell_type": "markdown",
   "id": "ddaabb5d-8b64-4b5b-8c41-b7f4ddabd380",
   "metadata": {},
   "source": [
    "## Q8. Write a python function that receives a list of integers and prints out a histogram of bin size 10"
   ]
  },
  {
   "cell_type": "code",
   "execution_count": 8,
   "id": "9f11c19f-cb0f-4e4c-b9be-a9f425802cf9",
   "metadata": {},
   "outputs": [
    {
     "name": "stdout",
     "output_type": "stream",
     "text": [
      "{'11-20': 2, '21-30': 1, '31-40': 2, '41-50': 3, '51-60': 0}\n"
     ]
    }
   ],
   "source": [
    "def create_histogram(data):\n",
    "    \n",
    "    min_val = min(data)\n",
    "    max_val = max(data)\n",
    "    \n",
    "    bins = range(min_val // 10 * 10, (max_val // 10 + 1) * 10, 10)\n",
    "    \n",
    "    histogram = {f\"{bin_start+1}-{bin_start+10}\": 0 for bin_start in bins}\n",
    "    \n",
    "    for number in data:\n",
    "        bin_start = (number - 1) // 10 * 10\n",
    "        bin_range = f\"{bin_start+1}-{bin_start+10}\"\n",
    "        histogram[bin_range] += 1\n",
    "    \n",
    "    return histogram\n",
    "\n",
    "\n",
    "data = [13, 42, 15, 37, 22, 39, 41, 50]\n",
    "histogram = create_histogram(data)\n",
    "print(histogram)"
   ]
  },
  {
   "cell_type": "markdown",
   "id": "1ecb5a6c-f76f-49b6-972c-22b5a4ce21e3",
   "metadata": {},
   "source": [
    "## Q9. Write a python function that accepts a list of 2D co-ordinates and a query point, and then finds the the co-ordinate which is closest in terms of distance from the query point."
   ]
  },
  {
   "cell_type": "code",
   "execution_count": 9,
   "id": "0c6ba473-b844-44e5-a561-5a34f2ae8cac",
   "metadata": {},
   "outputs": [
    {
     "name": "stdout",
     "output_type": "stream",
     "text": [
      "The closest coordinate to (0, 0) is (1, 1)\n"
     ]
    }
   ],
   "source": [
    "import math\n",
    "\n",
    "def find_closest_coordinate(coordinates, query_point):\n",
    "    def euclidean_distance(point1, point2):\n",
    "        return math.sqrt((point1[0] - point2[0]) * 2 + (point1[1] - point2[1]) * 2)\n",
    "    \n",
    "    closest_coordinate = None\n",
    "    min_distance = float('inf')\n",
    "    \n",
    "    for coordinate in coordinates:\n",
    "        distance = euclidean_distance(coordinate, query_point)\n",
    "        if distance < min_distance:\n",
    "            min_distance = distance\n",
    "            closest_coordinate = coordinate\n",
    "            \n",
    "    return closest_coordinate\n",
    "coordinates = [(1, 1), (2, 2), (3, 3), (4, 4)]\n",
    "query_point = (0, 0)\n",
    "closest_coordinate = find_closest_coordinate(coordinates, query_point)\n",
    "print(f'The closest coordinate to {query_point} is {closest_coordinate}')"
   ]
  },
  {
   "cell_type": "markdown",
   "id": "717beacc-f6ad-4575-a579-59c35234bea1",
   "metadata": {},
   "source": [
    "## Q10. Write a python program that receives a list of strings and performs bag of word operation on those strings"
   ]
  },
  {
   "cell_type": "code",
   "execution_count": 10,
   "id": "ca226559-6284-4a23-ba0d-7091849f76cb",
   "metadata": {},
   "outputs": [
    {
     "name": "stdout",
     "output_type": "stream",
     "text": [
      "Bag of Words:\n",
      "Counter({'Hello': 1, 'How': 1, 'have': 1, 'you': 1, 'been': 1, 'Good': 1, 'to': 1, 'see': 1, 'You': 1})\n"
     ]
    }
   ],
   "source": [
    "def bag_of_words(strings):\n",
    "    \n",
    "    words = [word for string in strings for word in string.split()]\n",
    "    \n",
    "\n",
    "    word_counts = Counter(words)\n",
    "    \n",
    "    return word_counts\n",
    "\n",
    "\n",
    "strings = [\n",
    "    \"Hello \",\n",
    "    \"How have you been \",\n",
    "    \"Good to see You\"\n",
    "]\n",
    "\n",
    "bow = bag_of_words(strings)\n",
    "print(\"Bag of Words:\")\n",
    "print(bow)"
   ]
  },
  {
   "cell_type": "markdown",
   "id": "ad55a743-5b1e-4634-ae2d-ea1d0731f09b",
   "metadata": {},
   "source": [
    "## Q11. Write a python program that receives a list of strings and performs bag of word operation on those strings"
   ]
  },
  {
   "cell_type": "code",
   "execution_count": 5,
   "id": "8ca35021-6e5e-45ed-8b30-e04053bd6145",
   "metadata": {},
   "outputs": [
    {
     "ename": "SyntaxError",
     "evalue": "invalid non-printable character U+00A0 (487059041.py, line 5)",
     "output_type": "error",
     "traceback": [
      "\u001b[1;36m  Cell \u001b[1;32mIn[5], line 5\u001b[1;36m\u001b[0m\n\u001b[1;33m    print(\"Result after adding three lists:\", result)\u001b[0m\n\u001b[1;37m                                             ^\u001b[0m\n\u001b[1;31mSyntaxError\u001b[0m\u001b[1;31m:\u001b[0m invalid non-printable character U+00A0\n"
     ]
    }
   ],
   "source": [
    "list1 = [1, 2, 3]\n",
    "list2 = [4, 5, 6]\n",
    "list3 = [7, 8, 9]\n",
    "result = list(map(lambda x, y, z: x + y + z, list1, list2, list3))\n",
    "print(\"Result after adding three lists:\", result)"
   ]
  },
  {
   "cell_type": "markdown",
   "id": "3efcd3e2-c935-442b-a1c4-8b170ea75dc0",
   "metadata": {},
   "source": [
    "## Q12. Write a Python program to create a list containing the power of said number in bases raised to the corresponding number in the index using Python map."
   ]
  },
  {
   "cell_type": "code",
   "execution_count": 4,
   "id": "dfea9476-8fe7-4910-9a1c-fda6e9c0a64f",
   "metadata": {},
   "outputs": [
    {
     "ename": "SyntaxError",
     "evalue": "invalid non-printable character U+00A0 (70081697.py, line 3)",
     "output_type": "error",
     "traceback": [
      "\u001b[1;36m  Cell \u001b[1;32mIn[4], line 3\u001b[1;36m\u001b[0m\n\u001b[1;33m    print(\"Resulting list of powers:\", result)\u001b[0m\n\u001b[1;37m                                      ^\u001b[0m\n\u001b[1;31mSyntaxError\u001b[0m\u001b[1;31m:\u001b[0m invalid non-printable character U+00A0\n"
     ]
    }
   ],
   "source": [
    "bases = [1,2, 3, 4, 5,6,7,8,9,10]\n",
    "result = list(map(lambda base, exponent: base ** exponent, bases, range(len(bases))))\n",
    "print(\"Resulting list of powers:\", result)"
   ]
  },
  {
   "cell_type": "markdown",
   "id": "07978702-ad78-42ea-b0cf-a7008f549553",
   "metadata": {},
   "source": [
    "## Q13. Using filter() and list() functions and .lower() method filter all the vowels in a given string."
   ]
  },
  {
   "cell_type": "code",
   "execution_count": 14,
   "id": "539ecc55-c23b-487a-b042-7aa19584221f",
   "metadata": {},
   "outputs": [
    {
     "name": "stdout",
     "output_type": "stream",
     "text": [
      "Filtered vowels from the string: ['e', 'o', 'o']\n"
     ]
    }
   ],
   "source": [
    "def is_vowel(char):\n",
    "    vowels = 'aeiou'\n",
    "    return char.lower() in vowels\n",
    "\n",
    "input_string = \"Hello, World!\"\n",
    "\n",
    "filtered_vowels = list(filter(is_vowel, input_string))\n",
    "\n",
    "print(\"Filtered vowels from the string:\", filtered_vowels)"
   ]
  },
  {
   "cell_type": "markdown",
   "id": "4ed6e3df-52c7-48c9-8e00-0871f14d6780",
   "metadata": {},
   "source": [
    "## Q14. Use reduce to convert a 2D list to 1D"
   ]
  },
  {
   "cell_type": "code",
   "execution_count": 3,
   "id": "cdca958d-3329-4e6a-aaf3-ba58a3f420c4",
   "metadata": {},
   "outputs": [
    {
     "ename": "SyntaxError",
     "evalue": "invalid non-printable character U+00A0 (3808223946.py, line 4)",
     "output_type": "error",
     "traceback": [
      "\u001b[1;36m  Cell \u001b[1;32mIn[3], line 4\u001b[1;36m\u001b[0m\n\u001b[1;33m    print(\"1D list:\", one_D_list)\u001b[0m\n\u001b[1;37m                     ^\u001b[0m\n\u001b[1;31mSyntaxError\u001b[0m\u001b[1;31m:\u001b[0m invalid non-printable character U+00A0\n"
     ]
    }
   ],
   "source": [
    "from functools import reduce\n",
    "two_d_list = [[\"S, a, m\"], [\"i, k\"], [\"s, h, a\"]]\n",
    "one_d_list = reduce(lambda x, y: x + y, two_d_list)\n",
    "print(\"1D list:\", one_D_list)"
   ]
  },
  {
   "cell_type": "code",
   "execution_count": null,
   "id": "faf67a26-0cff-400e-911f-4c65ecb93cfa",
   "metadata": {},
   "outputs": [],
   "source": []
  }
 ],
 "metadata": {
  "kernelspec": {
   "display_name": "Python 3 (ipykernel)",
   "language": "python",
   "name": "python3"
  },
  "language_info": {
   "codemirror_mode": {
    "name": "ipython",
    "version": 3
   },
   "file_extension": ".py",
   "mimetype": "text/x-python",
   "name": "python",
   "nbconvert_exporter": "python",
   "pygments_lexer": "ipython3",
   "version": "3.11.7"
  }
 },
 "nbformat": 4,
 "nbformat_minor": 5
}
