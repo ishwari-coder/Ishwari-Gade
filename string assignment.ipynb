{
 "cells": [
  {
   "cell_type": "markdown",
   "id": "175c7887-822d-404e-8295-4b3589a39e72",
   "metadata": {},
   "source": [
    "## Q.1. Find the length of given string (giving by user) without using len() function"
   ]
  },
  {
   "cell_type": "code",
   "execution_count": 3,
   "id": "90617264-3fe3-499f-949c-597069317955",
   "metadata": {},
   "outputs": [
    {
     "name": "stdin",
     "output_type": "stream",
     "text": [
      "enter your string: rutu\n"
     ]
    },
    {
     "name": "stdout",
     "output_type": "stream",
     "text": [
      "length of string is  4\n"
     ]
    }
   ],
   "source": [
    "inpt=input (\"enter your string:\")\n",
    "count = 0\n",
    "for i in inpt:\n",
    "     count += 1\n",
    "print(\"length of string is \",count)\n"
   ]
  },
  {
   "cell_type": "markdown",
   "id": "0170d218-161f-40b4-8be6-e6697d2329a7",
   "metadata": {},
   "source": [
    "## Q.2.extract userid for given mail i'd eg if the mail is ishwarigade2004@gmail.com then user name should be \"ishwarigade2004\"\n"
   ]
  },
  {
   "cell_type": "code",
   "execution_count": 6,
   "id": "edf9e547-42dc-4a1c-96cd-a425990fb1e6",
   "metadata": {},
   "outputs": [
    {
     "name": "stdin",
     "output_type": "stream",
     "text": [
      "enter your mail_id ishwarigade2004@gmail.com\n"
     ]
    },
    {
     "name": "stdout",
     "output_type": "stream",
     "text": [
      "ishwarigade2004\n"
     ]
    }
   ],
   "source": [
    "mail_id = input(\"enter your mail_id\")\n",
    "poss=mail_id.index(\"@\")\n",
    "print(mail_id[0:poss])"
   ]
  },
  {
   "cell_type": "markdown",
   "id": "7386a403-abe4-4f7f-9888-20d79fcb6f7c",
   "metadata": {},
   "source": [
    "## Q.3.count the freqency of perticular character in provuide string eg \"hello how are you \"is the string , the freqency of \"h\" in this string is 2 without using count function\n"
   ]
  },
  {
   "cell_type": "code",
   "execution_count": 4,
   "id": "8e2ec14d-f6e1-4340-9371-b09ebae50d16",
   "metadata": {},
   "outputs": [
    {
     "name": "stdin",
     "output_type": "stream",
     "text": [
      "enter your string  hello how are you\n",
      "what would you like to search h\n"
     ]
    },
    {
     "name": "stdout",
     "output_type": "stream",
     "text": [
      "freqncy of your char is  2\n"
     ]
    }
   ],
   "source": [
    "\n",
    "\n",
    "s = input(\"enter your string \")\n",
    "term = input (\"what would you like to search\")\n",
    "counter=0\n",
    "for i in s:\n",
    "    if i == term:\n",
    "        counter +=1\n",
    "print(\"freqncy of your char is \",counter)\n"
   ]
  },
  {
   "cell_type": "markdown",
   "id": "a2057af8-56c2-41b8-a845-98b11bf764b6",
   "metadata": {},
   "source": [
    "## Q.4.write a program which can remove a perticular character from string"
   ]
  },
  {
   "cell_type": "code",
   "execution_count": 18,
   "id": "3cfa46f8-f1a3-4d60-9623-c40a0ae75d4b",
   "metadata": {},
   "outputs": [
    {
     "name": "stdin",
     "output_type": "stream",
     "text": [
      "enter your string how are you\n",
      "what you want to remove h\n"
     ]
    },
    {
     "name": "stdout",
     "output_type": "stream",
     "text": [
      "ow are you\n"
     ]
    }
   ],
   "source": [
    " \n",
    "\n",
    "s=input(\"enter your string\")\n",
    "term=input(\"what you want to remove\")\n",
    "\n",
    "result =\"\"\n",
    "for i in s:\n",
    "    if i !=term:\n",
    "        result = result + i\n",
    "print(result)\n"
   ]
  },
  {
   "cell_type": "markdown",
   "id": "7a14d47e-9090-4429-b657-c1f2759e70d5",
   "metadata": {},
   "source": [
    "## Q.5.Write a program that can check whether a given string is palindrome or not.\n",
    "{abba,malayalam}"
   ]
  },
  {
   "cell_type": "code",
   "execution_count": 1,
   "id": "a40023a0-760b-47a4-9ded-e9f2161a47dd",
   "metadata": {},
   "outputs": [
    {
     "name": "stdin",
     "output_type": "stream",
     "text": [
      "Enter the string to check if it is palindrome: abba\n"
     ]
    },
    {
     "name": "stdout",
     "output_type": "stream",
     "text": [
      "The string is a palindrome.\n"
     ]
    }
   ],
   "source": [
    "str_1=input (\"Enter the string to check if it is palindrome:\")\n",
    "str_1=str_1.casefold()\n",
    "rev_str=reversed(str_1)\n",
    "if list (str_1)== list(rev_str):\n",
    "    print (\"palindrome string\")\n",
    "else:\n",
    "    print (\" not palindrome string.\")"
   ]
  },
  {
   "cell_type": "code",
   "execution_count": 1,
   "id": "d3116141-4cfe-4409-910a-2c41afc03a95",
   "metadata": {},
   "outputs": [
    {
     "name": "stdin",
     "output_type": "stream",
     "text": [
      "Ente your string: hello how are you\n"
     ]
    },
    {
     "name": "stdout",
     "output_type": "stream",
     "text": [
      "Length of string is 17\n"
     ]
    }
   ],
   "source": [
    "inp=input(\"Ente your string:\")\n",
    "count=0\n",
    "for i in inp:\n",
    "    count +=1\n",
    "print(\"Length of string is\",count)"
   ]
  },
  {
   "cell_type": "markdown",
   "id": "a467a769-2ddf-4de4-9189-362a8ef9f969",
   "metadata": {},
   "source": [
    "## Q.7. Write a python program to convert a string to title case without using the title() "
   ]
  },
  {
   "cell_type": "code",
   "execution_count": null,
   "id": "b58bc1b5-0eef-4f46-b4e6-fc91089f9702",
   "metadata": {},
   "outputs": [],
   "source": []
  },
  {
   "cell_type": "code",
   "execution_count": 2,
   "id": "04d2a851-0080-4d1b-894e-98eb89536566",
   "metadata": {},
   "outputs": [
    {
     "name": "stdin",
     "output_type": "stream",
     "text": [
      "enter the string: hello world\n"
     ]
    },
    {
     "name": "stdout",
     "output_type": "stream",
     "text": [
      "['hello', 'world']\n",
      "Hello\n",
      "HelloWorld\n"
     ]
    }
   ],
   "source": [
    "str1=input(\"enter the string:\")\n",
    "a=str1.split()\n",
    "print(a)\n",
    "r=\"\"\n",
    "for i in a:\n",
    "    r=r+i[0].upper()+i[1:].lower()+\"\"\n",
    "    print(r)"
   ]
  },
  {
   "cell_type": "code",
   "execution_count": null,
   "id": "6665ff97-4b01-4e17-8768-a9d43e560254",
   "metadata": {},
   "outputs": [],
   "source": []
  }
 ],
 "metadata": {
  "kernelspec": {
   "display_name": "Python 3 (ipykernel)",
   "language": "python",
   "name": "python3"
  },
  "language_info": {
   "codemirror_mode": {
    "name": "ipython",
    "version": 3
   },
   "file_extension": ".py",
   "mimetype": "text/x-python",
   "name": "python",
   "nbconvert_exporter": "python",
   "pygments_lexer": "ipython3",
   "version": "3.11.7"
  }
 },
 "nbformat": 4,
 "nbformat_minor": 5
}
